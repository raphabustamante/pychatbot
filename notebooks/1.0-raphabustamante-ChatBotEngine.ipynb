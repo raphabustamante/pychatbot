{
 "cells": [
  {
   "cell_type": "code",
   "execution_count": 16,
   "id": "40317579",
   "metadata": {},
   "outputs": [
    {
     "ename": "ModuleNotFoundError",
     "evalue": "No module named 'win32com'",
     "output_type": "error",
     "traceback": [
      "\u001b[0;31m---------------------------------------------------------------------------\u001b[0m",
      "\u001b[0;31mModuleNotFoundError\u001b[0m                       Traceback (most recent call last)",
      "Cell \u001b[0;32mIn[16], line 2\u001b[0m\n\u001b[1;32m      1\u001b[0m \u001b[38;5;28;01mimport\u001b[39;00m \u001b[38;5;21;01mos\u001b[39;00m\n\u001b[0;32m----> 2\u001b[0m \u001b[38;5;28;01mimport\u001b[39;00m \u001b[38;5;21;01mwin32com\u001b[39;00m\u001b[38;5;21;01m.\u001b[39;00m\u001b[38;5;21;01mclient\u001b[39;00m \u001b[38;5;28;01mas\u001b[39;00m \u001b[38;5;21;01mwin32\u001b[39;00m\n",
      "\u001b[0;31mModuleNotFoundError\u001b[0m: No module named 'win32com'"
     ]
    }
   ],
   "source": [
    "import os\n",
    "import win32com.client as win32"
   ]
  },
  {
   "cell_type": "code",
   "execution_count": 23,
   "id": "61d3c905",
   "metadata": {},
   "outputs": [
    {
     "name": "stdout",
     "output_type": "stream",
     "text": [
      "Defaulting to user installation because normal site-packages is not writeable\n",
      "\u001b[31mERROR: Could not find a version that satisfies the requirement pywin32 (from versions: none)\u001b[0m\u001b[31m\n",
      "\u001b[0m\u001b[31mERROR: No matching distribution found for pywin32\u001b[0m\u001b[31m\n",
      "\u001b[0m"
     ]
    }
   ],
   "source": [
    "!pip install -U pywin32"
   ]
  },
  {
   "cell_type": "markdown",
   "id": "73f7eb6f",
   "metadata": {},
   "source": [
    "# Index\n",
    "\n",
    "1. Sender\n",
    "2. Receiver"
   ]
  },
  {
   "cell_type": "code",
   "execution_count": 9,
   "id": "413c8362",
   "metadata": {},
   "outputs": [],
   "source": [
    "managers = {1 : 'Dialog',\n",
    "            2 : 'Advisory',\n",
    "            3: 'Banking',\n",
    "            4: 'Informacoes'}"
   ]
  },
  {
   "cell_type": "markdown",
   "id": "3e99514f",
   "metadata": {},
   "source": [
    "## 1. Sender"
   ]
  },
  {
   "cell_type": "code",
   "execution_count": 14,
   "id": "e407367d",
   "metadata": {},
   "outputs": [],
   "source": [
    "class SenderOutlook():\n",
    "    def __init__(self):\n",
    "        self.outlook = win32.Dispatch('outlook.application')\n",
    "        self.mail = outlook.CreateItem(0)\n",
    "        self.to = None\n",
    "        self.Subject = None\n",
    "        self.Body = None\n",
    "        self.HTMLBody = None\n",
    "        self.attachment = None\n",
    "        \n",
    "    def add_attachement(self):\n",
    "        self.mail.Attcachments.Add(self.attachment)\n",
    "    \n",
    "    def send_email(self):\n",
    "        self.mail.Send()"
   ]
  },
  {
   "cell_type": "code",
   "execution_count": 15,
   "id": "4feae227",
   "metadata": {},
   "outputs": [
    {
     "ename": "NameError",
     "evalue": "name 'win32' is not defined",
     "output_type": "error",
     "traceback": [
      "\u001b[0;31m---------------------------------------------------------------------------\u001b[0m",
      "\u001b[0;31mNameError\u001b[0m                                 Traceback (most recent call last)",
      "Cell \u001b[0;32mIn[15], line 1\u001b[0m\n\u001b[0;32m----> 1\u001b[0m sender \u001b[38;5;241m=\u001b[39m \u001b[43mSenderOutlook\u001b[49m\u001b[43m(\u001b[49m\u001b[43m)\u001b[49m\n",
      "Cell \u001b[0;32mIn[14], line 3\u001b[0m, in \u001b[0;36mSenderOutlook.__init__\u001b[0;34m(self)\u001b[0m\n\u001b[1;32m      2\u001b[0m \u001b[38;5;28;01mdef\u001b[39;00m \u001b[38;5;21m__init__\u001b[39m(\u001b[38;5;28mself\u001b[39m):\n\u001b[0;32m----> 3\u001b[0m     \u001b[38;5;28mself\u001b[39m\u001b[38;5;241m.\u001b[39moutlook \u001b[38;5;241m=\u001b[39m \u001b[43mwin32\u001b[49m\u001b[38;5;241m.\u001b[39mDispatch(\u001b[38;5;124m'\u001b[39m\u001b[38;5;124moutlook.application\u001b[39m\u001b[38;5;124m'\u001b[39m)\n\u001b[1;32m      4\u001b[0m     \u001b[38;5;28mself\u001b[39m\u001b[38;5;241m.\u001b[39mmail \u001b[38;5;241m=\u001b[39m outlook\u001b[38;5;241m.\u001b[39mCreateItem(\u001b[38;5;241m0\u001b[39m)\n\u001b[1;32m      5\u001b[0m     \u001b[38;5;28mself\u001b[39m\u001b[38;5;241m.\u001b[39mto \u001b[38;5;241m=\u001b[39m \u001b[38;5;28;01mNone\u001b[39;00m\n",
      "\u001b[0;31mNameError\u001b[0m: name 'win32' is not defined"
     ]
    }
   ],
   "source": [
    "sender = SenderOutlook()"
   ]
  },
  {
   "cell_type": "code",
   "execution_count": null,
   "id": "1f988d96",
   "metadata": {},
   "outputs": [],
   "source": []
  },
  {
   "cell_type": "code",
   "execution_count": null,
   "id": "f25e75a8",
   "metadata": {},
   "outputs": [],
   "source": [
    "outlook = win32.Dispatch('outlook.application')\n",
    "mail = outlook.CreateItem(0)\n",
    "mail.To = 'To address'\n",
    "mail.Subject = 'Message subject'\n",
    "mail.Body = 'Message body'\n",
    "mail.HTMLBody = '<h2>HTML Message body</h2>' #this field is optional\n",
    "\n",
    "# To attach a file to the email (optional):\n",
    "attachment  = \"Path to the attachment\"\n",
    "mail.Attachments.Add(attachment)\n",
    "\n",
    "mail.Send()\n"
   ]
  },
  {
   "cell_type": "code",
   "execution_count": null,
   "id": "65caec7f",
   "metadata": {},
   "outputs": [],
   "source": []
  },
  {
   "cell_type": "code",
   "execution_count": null,
   "id": "10c8c508",
   "metadata": {},
   "outputs": [],
   "source": []
  },
  {
   "cell_type": "markdown",
   "id": "1b2b4f95",
   "metadata": {},
   "source": [
    "## 1.1 Dialog manager\n",
    "\n"
   ]
  },
  {
   "cell_type": "code",
   "execution_count": 10,
   "id": "fe71a841",
   "metadata": {},
   "outputs": [],
   "source": [
    "dialog_1 = ''.join([\"Ola, tudo bem {} me chamo RoBot Advisory e vou te ajudar a entender um pouco mais\",\n",
    "                    \"sobre o ofsshore,para isso envie na resposta o numero do tema que gostaria de falar,\", \n",
    "                    \"por favor: {}\"])"
   ]
  },
  {
   "cell_type": "code",
   "execution_count": null,
   "id": "4533379e",
   "metadata": {},
   "outputs": [],
   "source": []
  },
  {
   "cell_type": "code",
   "execution_count": null,
   "id": "a5787036",
   "metadata": {},
   "outputs": [],
   "source": []
  }
 ],
 "metadata": {
  "kernelspec": {
   "display_name": "Python 3 (ipykernel)",
   "language": "python",
   "name": "python3"
  },
  "language_info": {
   "codemirror_mode": {
    "name": "ipython",
    "version": 3
   },
   "file_extension": ".py",
   "mimetype": "text/x-python",
   "name": "python",
   "nbconvert_exporter": "python",
   "pygments_lexer": "ipython3",
   "version": "3.10.6"
  }
 },
 "nbformat": 4,
 "nbformat_minor": 5
}
